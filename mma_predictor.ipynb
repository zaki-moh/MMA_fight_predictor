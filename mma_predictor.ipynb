{
  "nbformat": 4,
  "nbformat_minor": 0,
  "metadata": {
    "colab": {
      "provenance": [],
      "toc_visible": true,
      "authorship_tag": "ABX9TyPksyfssiV6hRz8vfcdNd5b",
      "include_colab_link": true
    },
    "kernelspec": {
      "name": "python3",
      "display_name": "Python 3"
    },
    "language_info": {
      "name": "python"
    }
  },
  "cells": [
    {
      "cell_type": "markdown",
      "metadata": {
        "id": "view-in-github",
        "colab_type": "text"
      },
      "source": [
        "<a href=\"https://colab.research.google.com/github/zaki-moh/MMA_fight_predictor/blob/main/mma_predictor.ipynb\" target=\"_parent\"><img src=\"https://colab.research.google.com/assets/colab-badge.svg\" alt=\"Open In Colab\"/></a>"
      ]
    },
    {
      "cell_type": "code",
      "execution_count": 36,
      "metadata": {
        "colab": {
          "base_uri": "https://localhost:8080/",
          "height": 108
        },
        "id": "6fe-vCp8-dLe",
        "outputId": "85dc26ec-7d4c-4a28-b013-83122612d004"
      },
      "outputs": [
        {
          "output_type": "display_data",
          "data": {
            "text/plain": [
              "<IPython.core.display.HTML object>"
            ],
            "text/html": [
              "\n",
              "     <input type=\"file\" id=\"files-74af6b0a-22bb-4c47-89d4-fe3020feb929\" name=\"files[]\" multiple disabled\n",
              "        style=\"border:none\" />\n",
              "     <output id=\"result-74af6b0a-22bb-4c47-89d4-fe3020feb929\">\n",
              "      Upload widget is only available when the cell has been executed in the\n",
              "      current browser session. Please rerun this cell to enable.\n",
              "      </output>\n",
              "      <script>// Copyright 2017 Google LLC\n",
              "//\n",
              "// Licensed under the Apache License, Version 2.0 (the \"License\");\n",
              "// you may not use this file except in compliance with the License.\n",
              "// You may obtain a copy of the License at\n",
              "//\n",
              "//      http://www.apache.org/licenses/LICENSE-2.0\n",
              "//\n",
              "// Unless required by applicable law or agreed to in writing, software\n",
              "// distributed under the License is distributed on an \"AS IS\" BASIS,\n",
              "// WITHOUT WARRANTIES OR CONDITIONS OF ANY KIND, either express or implied.\n",
              "// See the License for the specific language governing permissions and\n",
              "// limitations under the License.\n",
              "\n",
              "/**\n",
              " * @fileoverview Helpers for google.colab Python module.\n",
              " */\n",
              "(function(scope) {\n",
              "function span(text, styleAttributes = {}) {\n",
              "  const element = document.createElement('span');\n",
              "  element.textContent = text;\n",
              "  for (const key of Object.keys(styleAttributes)) {\n",
              "    element.style[key] = styleAttributes[key];\n",
              "  }\n",
              "  return element;\n",
              "}\n",
              "\n",
              "// Max number of bytes which will be uploaded at a time.\n",
              "const MAX_PAYLOAD_SIZE = 100 * 1024;\n",
              "\n",
              "function _uploadFiles(inputId, outputId) {\n",
              "  const steps = uploadFilesStep(inputId, outputId);\n",
              "  const outputElement = document.getElementById(outputId);\n",
              "  // Cache steps on the outputElement to make it available for the next call\n",
              "  // to uploadFilesContinue from Python.\n",
              "  outputElement.steps = steps;\n",
              "\n",
              "  return _uploadFilesContinue(outputId);\n",
              "}\n",
              "\n",
              "// This is roughly an async generator (not supported in the browser yet),\n",
              "// where there are multiple asynchronous steps and the Python side is going\n",
              "// to poll for completion of each step.\n",
              "// This uses a Promise to block the python side on completion of each step,\n",
              "// then passes the result of the previous step as the input to the next step.\n",
              "function _uploadFilesContinue(outputId) {\n",
              "  const outputElement = document.getElementById(outputId);\n",
              "  const steps = outputElement.steps;\n",
              "\n",
              "  const next = steps.next(outputElement.lastPromiseValue);\n",
              "  return Promise.resolve(next.value.promise).then((value) => {\n",
              "    // Cache the last promise value to make it available to the next\n",
              "    // step of the generator.\n",
              "    outputElement.lastPromiseValue = value;\n",
              "    return next.value.response;\n",
              "  });\n",
              "}\n",
              "\n",
              "/**\n",
              " * Generator function which is called between each async step of the upload\n",
              " * process.\n",
              " * @param {string} inputId Element ID of the input file picker element.\n",
              " * @param {string} outputId Element ID of the output display.\n",
              " * @return {!Iterable<!Object>} Iterable of next steps.\n",
              " */\n",
              "function* uploadFilesStep(inputId, outputId) {\n",
              "  const inputElement = document.getElementById(inputId);\n",
              "  inputElement.disabled = false;\n",
              "\n",
              "  const outputElement = document.getElementById(outputId);\n",
              "  outputElement.innerHTML = '';\n",
              "\n",
              "  const pickedPromise = new Promise((resolve) => {\n",
              "    inputElement.addEventListener('change', (e) => {\n",
              "      resolve(e.target.files);\n",
              "    });\n",
              "  });\n",
              "\n",
              "  const cancel = document.createElement('button');\n",
              "  inputElement.parentElement.appendChild(cancel);\n",
              "  cancel.textContent = 'Cancel upload';\n",
              "  const cancelPromise = new Promise((resolve) => {\n",
              "    cancel.onclick = () => {\n",
              "      resolve(null);\n",
              "    };\n",
              "  });\n",
              "\n",
              "  // Wait for the user to pick the files.\n",
              "  const files = yield {\n",
              "    promise: Promise.race([pickedPromise, cancelPromise]),\n",
              "    response: {\n",
              "      action: 'starting',\n",
              "    }\n",
              "  };\n",
              "\n",
              "  cancel.remove();\n",
              "\n",
              "  // Disable the input element since further picks are not allowed.\n",
              "  inputElement.disabled = true;\n",
              "\n",
              "  if (!files) {\n",
              "    return {\n",
              "      response: {\n",
              "        action: 'complete',\n",
              "      }\n",
              "    };\n",
              "  }\n",
              "\n",
              "  for (const file of files) {\n",
              "    const li = document.createElement('li');\n",
              "    li.append(span(file.name, {fontWeight: 'bold'}));\n",
              "    li.append(span(\n",
              "        `(${file.type || 'n/a'}) - ${file.size} bytes, ` +\n",
              "        `last modified: ${\n",
              "            file.lastModifiedDate ? file.lastModifiedDate.toLocaleDateString() :\n",
              "                                    'n/a'} - `));\n",
              "    const percent = span('0% done');\n",
              "    li.appendChild(percent);\n",
              "\n",
              "    outputElement.appendChild(li);\n",
              "\n",
              "    const fileDataPromise = new Promise((resolve) => {\n",
              "      const reader = new FileReader();\n",
              "      reader.onload = (e) => {\n",
              "        resolve(e.target.result);\n",
              "      };\n",
              "      reader.readAsArrayBuffer(file);\n",
              "    });\n",
              "    // Wait for the data to be ready.\n",
              "    let fileData = yield {\n",
              "      promise: fileDataPromise,\n",
              "      response: {\n",
              "        action: 'continue',\n",
              "      }\n",
              "    };\n",
              "\n",
              "    // Use a chunked sending to avoid message size limits. See b/62115660.\n",
              "    let position = 0;\n",
              "    do {\n",
              "      const length = Math.min(fileData.byteLength - position, MAX_PAYLOAD_SIZE);\n",
              "      const chunk = new Uint8Array(fileData, position, length);\n",
              "      position += length;\n",
              "\n",
              "      const base64 = btoa(String.fromCharCode.apply(null, chunk));\n",
              "      yield {\n",
              "        response: {\n",
              "          action: 'append',\n",
              "          file: file.name,\n",
              "          data: base64,\n",
              "        },\n",
              "      };\n",
              "\n",
              "      let percentDone = fileData.byteLength === 0 ?\n",
              "          100 :\n",
              "          Math.round((position / fileData.byteLength) * 100);\n",
              "      percent.textContent = `${percentDone}% done`;\n",
              "\n",
              "    } while (position < fileData.byteLength);\n",
              "  }\n",
              "\n",
              "  // All done.\n",
              "  yield {\n",
              "    response: {\n",
              "      action: 'complete',\n",
              "    }\n",
              "  };\n",
              "}\n",
              "\n",
              "scope.google = scope.google || {};\n",
              "scope.google.colab = scope.google.colab || {};\n",
              "scope.google.colab._files = {\n",
              "  _uploadFiles,\n",
              "  _uploadFilesContinue,\n",
              "};\n",
              "})(self);\n",
              "</script> "
            ]
          },
          "metadata": {}
        },
        {
          "output_type": "stream",
          "name": "stdout",
          "text": [
            "Saving large_dataset.csv to large_dataset (2).csv\n",
            "Saving ufc-fighters-statistics.csv to ufc-fighters-statistics (3).csv\n"
          ]
        }
      ],
      "source": [
        "from google.colab import files\n",
        "uploaded = files.upload()"
      ]
    },
    {
      "cell_type": "code",
      "source": [
        "import pandas as pd\n",
        "stats = pd.read_csv(\"ufc-fighters-statistics.csv\")\n",
        "historic_fights = pd.read_csv(\"large_dataset.csv\")\n",
        "# stats.head()\n",
        "# stats.isnull().sum()\n",
        "# print(stats.head(15))\n",
        "# print(historic_fights.head(10))\n",
        "#print(stats.columns)\n",
        "stats.columns.tolist()\n",
        "\n",
        "#"
      ],
      "metadata": {
        "colab": {
          "base_uri": "https://localhost:8080/"
        },
        "id": "SgvzA6CTJlzP",
        "outputId": "d82832ba-7310-468a-b183-dc4afeff4a88"
      },
      "execution_count": 69,
      "outputs": [
        {
          "output_type": "execute_result",
          "data": {
            "text/plain": [
              "['name',\n",
              " 'nickname',\n",
              " 'wins',\n",
              " 'losses',\n",
              " 'draws',\n",
              " 'height_cm',\n",
              " 'weight_in_kg',\n",
              " 'reach_in_cm',\n",
              " 'stance',\n",
              " 'date_of_birth',\n",
              " 'significant_strikes_landed_per_minute',\n",
              " 'significant_striking_accuracy',\n",
              " 'significant_strikes_absorbed_per_minute',\n",
              " 'significant_strike_defence',\n",
              " 'average_takedowns_landed_per_15_minutes',\n",
              " 'takedown_accuracy',\n",
              " 'takedown_defense',\n",
              " 'average_submissions_attempted_per_15_minutes']"
            ]
          },
          "metadata": {},
          "execution_count": 69
        }
      ]
    },
    {
      "cell_type": "code",
      "source": [
        "# stats.info()\n",
        "# stats.describe()\n",
        "# stats.shape\n",
        "# print(stats.columns.tolist())"
      ],
      "metadata": {
        "id": "NOdSo3lKJob8"
      },
      "execution_count": 51,
      "outputs": []
    },
    {
      "cell_type": "code",
      "source": [
        "historic_fights = historic_fights[['r_fighter', 'b_fighter', 'winner']].copy()\n",
        "historic_fights['winner'] = historic_fights.apply(\n",
        "    lambda row: row['r_fighter'] if row['winner'].lower() == 'red' else row['b_fighter'],\n",
        "    axis = 1\n",
        ")\n",
        "\n",
        "stats['height_cm'] = stats['height_cm'].fillna(stats['height_cm'].median())\n",
        "stats['date_of_birth'] = pd.to_datetime(stats['date_of_birth'], errors='coerce')\n",
        "today = pd.to_datetime('today')\n",
        "stats['age'] = (today - stats['date_of_birth']).dt.days // 365\n",
        "stats['age'] = stats['age'].fillna(stats['age'].median())\n",
        "mean_strikes = stats['significant_strikes_landed_per_minute'].mean()\n",
        "stats['normalized_strikes'] = stats['significant_strikes_landed_per_minute'] / mean_strikes\n",
        "stats['performance'] = (0.3 * stats['normalized_strikes']\n",
        "                        + 0.3 * stats['significant_strike_defence'] / 100\n",
        "                        + 0.2 * stats['takedown_accuracy'] / 100\n",
        "                        + 0.2 * stats['takedown_defense'] / 100)\n",
        "stats['strike_efficiency'] = (\n",
        "    stats['significant_strikes_landed_per_minute']\n",
        "    - stats['significant_strikes_absorbed_per_minute']\n",
        ")\n",
        "stats['grapple_efficiency'] = (\n",
        "    0.5 * stats['takedown_accuracy'] / 100 + 0.5 * stats['takedown_defense'] / 100\n",
        ")\n",
        "stats['win_indicator'] = (stats['wins'] > stats['losses']).astype(int)\n",
        "stats['win_ratio'] = stats['wins'] / (stats['wins'] + stats[\"losses\"] + stats['draws'])\n",
        "stats['win_ratio'] = stats['win_ratio'].fillna(0)\n",
        "\n",
        "merged = historic_fights.merge(\n",
        "    stats.add_prefix('r_'),\n",
        "    left_on='r_fighter',\n",
        "    right_on='r_name'\n",
        ")\n",
        "merged = merged.merge(\n",
        "    stats.add_prefix('b_'),\n",
        "    left_on='b_fighter',\n",
        "    right_on='b_name'\n",
        ")\n",
        "print(merged.columns.tolist())"
      ],
      "metadata": {
        "id": "0Xx0igFkHbbW",
        "colab": {
          "base_uri": "https://localhost:8080/"
        },
        "outputId": "710cb4a7-d59a-415a-e4e9-2297e424e6fd"
      },
      "execution_count": 70,
      "outputs": [
        {
          "output_type": "stream",
          "name": "stdout",
          "text": [
            "['r_fighter', 'b_fighter', 'winner', 'r_name', 'r_nickname', 'r_wins', 'r_losses', 'r_draws', 'r_height_cm', 'r_weight_in_kg', 'r_reach_in_cm', 'r_stance', 'r_date_of_birth', 'r_significant_strikes_landed_per_minute', 'r_significant_striking_accuracy', 'r_significant_strikes_absorbed_per_minute', 'r_significant_strike_defence', 'r_average_takedowns_landed_per_15_minutes', 'r_takedown_accuracy', 'r_takedown_defense', 'r_average_submissions_attempted_per_15_minutes', 'r_age', 'r_normalized_strikes', 'r_performance', 'r_strike_efficiency', 'r_grapple_efficiency', 'r_win_indicator', 'r_win_ratio', 'b_name', 'b_nickname', 'b_wins', 'b_losses', 'b_draws', 'b_height_cm', 'b_weight_in_kg', 'b_reach_in_cm', 'b_stance', 'b_date_of_birth', 'b_significant_strikes_landed_per_minute', 'b_significant_striking_accuracy', 'b_significant_strikes_absorbed_per_minute', 'b_significant_strike_defence', 'b_average_takedowns_landed_per_15_minutes', 'b_takedown_accuracy', 'b_takedown_defense', 'b_average_submissions_attempted_per_15_minutes', 'b_age', 'b_normalized_strikes', 'b_performance', 'b_strike_efficiency', 'b_grapple_efficiency', 'b_win_indicator', 'b_win_ratio']\n"
          ]
        }
      ]
    },
    {
      "cell_type": "code",
      "source": [
        "from sklearn.preprocessing import StandardScaler\n",
        "\n",
        "scaler = StandardScaler()\n",
        "\n",
        "numeric_cols = ['height_cm', 'age', 'performance', 'strike_efficiency', 'grapple_efficiency']\n",
        "\n",
        "stats[numeric_cols] = scaler.fit_transform(stats[numeric_cols])"
      ],
      "metadata": {
        "id": "6P2mSP2XgVCu"
      },
      "execution_count": 40,
      "outputs": []
    },
    {
      "cell_type": "code",
      "source": [
        "from sklearn.ensemble import RandomForestClassifier\n",
        "from sklearn.model_selection import train_test_split\n",
        "from sklearn.metrics import accuracy_score, classification_report\n",
        "\n",
        "X = stats[['strike_efficiency', 'grapple_efficiency', 'height_cm', 'age', 'performance']]\n",
        "y = stats['win_indicator']\n",
        "X_train, X_test, y_train, y_test = train_test_split(X, y, stratify=y, random_state=42)\n",
        "\n",
        "model = RandomForestClassifier(n_estimators=200, class_weight='balanced', random_state=42)\n",
        "model.fit(X_train, y_train)\n",
        "\n",
        "y_pred = model.predict(X_test)\n",
        "print(\"Accuracy:\", accuracy_score(y_test, y_pred))\n",
        "print(classification_report(y_test, y_pred))"
      ],
      "metadata": {
        "id": "kkcC90lThHNZ",
        "colab": {
          "base_uri": "https://localhost:8080/"
        },
        "outputId": "0b9ae355-6596-4874-8099-d2b3a1122c5d"
      },
      "execution_count": 41,
      "outputs": [
        {
          "output_type": "stream",
          "name": "stdout",
          "text": [
            "Accuracy: 0.8424124513618677\n",
            "              precision    recall  f1-score   support\n",
            "\n",
            "           0       0.49      0.56      0.52       160\n",
            "           1       0.92      0.90      0.91       868\n",
            "\n",
            "    accuracy                           0.84      1028\n",
            "   macro avg       0.71      0.73      0.71      1028\n",
            "weighted avg       0.85      0.84      0.85      1028\n",
            "\n"
          ]
        }
      ]
    },
    {
      "cell_type": "code",
      "source": [
        "def predictWinner(fighter_A_Name, fighter_B_Name):\n",
        "  fighter_A = stats.loc[stats['name'] == fighter_A_Name].squeeze()\n",
        "  fighter_B = stats.loc[stats['name'] == fighter_B_Name].squeeze()\n",
        "\n",
        "  if fighter_A.empty or fighter_B.empty:\n",
        "    print(\"One or both fighters not found in the dataset.\")\n",
        "    return\n",
        "\n",
        "  features = ['strike_efficiency', 'grapple_efficiency', 'height_cm', 'age', 'performance']\n",
        "\n",
        "  feature_A = fighter_A[features].values.reshape(1, -1)\n",
        "  feature_B = fighter_B[features].values.reshape(1, -1)\n",
        "\n",
        "  A_prob = model.predict_proba(feature_A)[0][1]\n",
        "  B_prob = model.predict_proba(feature_B)[0][1]\n",
        "\n",
        "  print(f\"{fighter_A_Name} vs {fighter_B_Name}\")\n",
        "  print(f\"{fighter_A_Name} likelyhood to win {A_prob:.2%}\")\n",
        "  print(f\"{fighter_B_Name} likelyhood to win {A_prob:.2%}\")\n",
        "\n",
        "  if A_prob > B_prob:\n",
        "    print(f\"Predicted winner {fighter_A_Name}\")\n",
        "  else:\n",
        "    print(f\"Predicted winner {fighter_B_Name}\")\n",
        "\n",
        "\n"
      ],
      "metadata": {
        "id": "aFrvSVyMIxaJ"
      },
      "execution_count": 42,
      "outputs": []
    },
    {
      "cell_type": "code",
      "source": [
        "#Test\n",
        "predictWinner(\"Khabib Nurmagomedov\", \"Conor McGregor\")"
      ],
      "metadata": {
        "colab": {
          "base_uri": "https://localhost:8080/"
        },
        "id": "HolloyHNPxNK",
        "outputId": "4356a2fe-e5b5-482f-aff6-3e074adcc1f3"
      },
      "execution_count": 43,
      "outputs": [
        {
          "output_type": "stream",
          "name": "stdout",
          "text": [
            "Khabib Nurmagomedov vs Conor McGregor\n",
            "Khabib Nurmagomedov likelyhood to win 100.00%\n",
            "Conor McGregor likelyhood to win 100.00%\n",
            "Predicted winner Conor McGregor\n"
          ]
        },
        {
          "output_type": "stream",
          "name": "stderr",
          "text": [
            "/usr/local/lib/python3.12/dist-packages/sklearn/utils/validation.py:2739: UserWarning: X does not have valid feature names, but RandomForestClassifier was fitted with feature names\n",
            "  warnings.warn(\n",
            "/usr/local/lib/python3.12/dist-packages/sklearn/utils/validation.py:2739: UserWarning: X does not have valid feature names, but RandomForestClassifier was fitted with feature names\n",
            "  warnings.warn(\n"
          ]
        }
      ]
    }
  ]
}