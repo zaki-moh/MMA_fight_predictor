{
  "nbformat": 4,
  "nbformat_minor": 0,
  "metadata": {
    "colab": {
      "provenance": [],
      "toc_visible": true,
      "authorship_tag": "ABX9TyP5FZdR0F2i+7O7h9l7Fvjg",
      "include_colab_link": true
    },
    "kernelspec": {
      "name": "python3",
      "display_name": "Python 3"
    },
    "language_info": {
      "name": "python"
    }
  },
  "cells": [
    {
      "cell_type": "markdown",
      "metadata": {
        "id": "view-in-github",
        "colab_type": "text"
      },
      "source": [
        "<a href=\"https://colab.research.google.com/github/zaki-moh/MMA_fight_predictor/blob/main/mma_predictor.ipynb\" target=\"_parent\"><img src=\"https://colab.research.google.com/assets/colab-badge.svg\" alt=\"Open In Colab\"/></a>"
      ]
    },
    {
      "cell_type": "code",
      "execution_count": null,
      "metadata": {
        "colab": {
          "base_uri": "https://localhost:8080/",
          "height": 73
        },
        "id": "6fe-vCp8-dLe",
        "outputId": "136b9656-da92-4154-e101-ac5f0643b342"
      },
      "outputs": [
        {
          "output_type": "display_data",
          "data": {
            "text/plain": [
              "<IPython.core.display.HTML object>"
            ],
            "text/html": [
              "\n",
              "     <input type=\"file\" id=\"files-45d494bd-2be9-470c-8e93-6bb1a3c2a3f0\" name=\"files[]\" multiple disabled\n",
              "        style=\"border:none\" />\n",
              "     <output id=\"result-45d494bd-2be9-470c-8e93-6bb1a3c2a3f0\">\n",
              "      Upload widget is only available when the cell has been executed in the\n",
              "      current browser session. Please rerun this cell to enable.\n",
              "      </output>\n",
              "      <script>// Copyright 2017 Google LLC\n",
              "//\n",
              "// Licensed under the Apache License, Version 2.0 (the \"License\");\n",
              "// you may not use this file except in compliance with the License.\n",
              "// You may obtain a copy of the License at\n",
              "//\n",
              "//      http://www.apache.org/licenses/LICENSE-2.0\n",
              "//\n",
              "// Unless required by applicable law or agreed to in writing, software\n",
              "// distributed under the License is distributed on an \"AS IS\" BASIS,\n",
              "// WITHOUT WARRANTIES OR CONDITIONS OF ANY KIND, either express or implied.\n",
              "// See the License for the specific language governing permissions and\n",
              "// limitations under the License.\n",
              "\n",
              "/**\n",
              " * @fileoverview Helpers for google.colab Python module.\n",
              " */\n",
              "(function(scope) {\n",
              "function span(text, styleAttributes = {}) {\n",
              "  const element = document.createElement('span');\n",
              "  element.textContent = text;\n",
              "  for (const key of Object.keys(styleAttributes)) {\n",
              "    element.style[key] = styleAttributes[key];\n",
              "  }\n",
              "  return element;\n",
              "}\n",
              "\n",
              "// Max number of bytes which will be uploaded at a time.\n",
              "const MAX_PAYLOAD_SIZE = 100 * 1024;\n",
              "\n",
              "function _uploadFiles(inputId, outputId) {\n",
              "  const steps = uploadFilesStep(inputId, outputId);\n",
              "  const outputElement = document.getElementById(outputId);\n",
              "  // Cache steps on the outputElement to make it available for the next call\n",
              "  // to uploadFilesContinue from Python.\n",
              "  outputElement.steps = steps;\n",
              "\n",
              "  return _uploadFilesContinue(outputId);\n",
              "}\n",
              "\n",
              "// This is roughly an async generator (not supported in the browser yet),\n",
              "// where there are multiple asynchronous steps and the Python side is going\n",
              "// to poll for completion of each step.\n",
              "// This uses a Promise to block the python side on completion of each step,\n",
              "// then passes the result of the previous step as the input to the next step.\n",
              "function _uploadFilesContinue(outputId) {\n",
              "  const outputElement = document.getElementById(outputId);\n",
              "  const steps = outputElement.steps;\n",
              "\n",
              "  const next = steps.next(outputElement.lastPromiseValue);\n",
              "  return Promise.resolve(next.value.promise).then((value) => {\n",
              "    // Cache the last promise value to make it available to the next\n",
              "    // step of the generator.\n",
              "    outputElement.lastPromiseValue = value;\n",
              "    return next.value.response;\n",
              "  });\n",
              "}\n",
              "\n",
              "/**\n",
              " * Generator function which is called between each async step of the upload\n",
              " * process.\n",
              " * @param {string} inputId Element ID of the input file picker element.\n",
              " * @param {string} outputId Element ID of the output display.\n",
              " * @return {!Iterable<!Object>} Iterable of next steps.\n",
              " */\n",
              "function* uploadFilesStep(inputId, outputId) {\n",
              "  const inputElement = document.getElementById(inputId);\n",
              "  inputElement.disabled = false;\n",
              "\n",
              "  const outputElement = document.getElementById(outputId);\n",
              "  outputElement.innerHTML = '';\n",
              "\n",
              "  const pickedPromise = new Promise((resolve) => {\n",
              "    inputElement.addEventListener('change', (e) => {\n",
              "      resolve(e.target.files);\n",
              "    });\n",
              "  });\n",
              "\n",
              "  const cancel = document.createElement('button');\n",
              "  inputElement.parentElement.appendChild(cancel);\n",
              "  cancel.textContent = 'Cancel upload';\n",
              "  const cancelPromise = new Promise((resolve) => {\n",
              "    cancel.onclick = () => {\n",
              "      resolve(null);\n",
              "    };\n",
              "  });\n",
              "\n",
              "  // Wait for the user to pick the files.\n",
              "  const files = yield {\n",
              "    promise: Promise.race([pickedPromise, cancelPromise]),\n",
              "    response: {\n",
              "      action: 'starting',\n",
              "    }\n",
              "  };\n",
              "\n",
              "  cancel.remove();\n",
              "\n",
              "  // Disable the input element since further picks are not allowed.\n",
              "  inputElement.disabled = true;\n",
              "\n",
              "  if (!files) {\n",
              "    return {\n",
              "      response: {\n",
              "        action: 'complete',\n",
              "      }\n",
              "    };\n",
              "  }\n",
              "\n",
              "  for (const file of files) {\n",
              "    const li = document.createElement('li');\n",
              "    li.append(span(file.name, {fontWeight: 'bold'}));\n",
              "    li.append(span(\n",
              "        `(${file.type || 'n/a'}) - ${file.size} bytes, ` +\n",
              "        `last modified: ${\n",
              "            file.lastModifiedDate ? file.lastModifiedDate.toLocaleDateString() :\n",
              "                                    'n/a'} - `));\n",
              "    const percent = span('0% done');\n",
              "    li.appendChild(percent);\n",
              "\n",
              "    outputElement.appendChild(li);\n",
              "\n",
              "    const fileDataPromise = new Promise((resolve) => {\n",
              "      const reader = new FileReader();\n",
              "      reader.onload = (e) => {\n",
              "        resolve(e.target.result);\n",
              "      };\n",
              "      reader.readAsArrayBuffer(file);\n",
              "    });\n",
              "    // Wait for the data to be ready.\n",
              "    let fileData = yield {\n",
              "      promise: fileDataPromise,\n",
              "      response: {\n",
              "        action: 'continue',\n",
              "      }\n",
              "    };\n",
              "\n",
              "    // Use a chunked sending to avoid message size limits. See b/62115660.\n",
              "    let position = 0;\n",
              "    do {\n",
              "      const length = Math.min(fileData.byteLength - position, MAX_PAYLOAD_SIZE);\n",
              "      const chunk = new Uint8Array(fileData, position, length);\n",
              "      position += length;\n",
              "\n",
              "      const base64 = btoa(String.fromCharCode.apply(null, chunk));\n",
              "      yield {\n",
              "        response: {\n",
              "          action: 'append',\n",
              "          file: file.name,\n",
              "          data: base64,\n",
              "        },\n",
              "      };\n",
              "\n",
              "      let percentDone = fileData.byteLength === 0 ?\n",
              "          100 :\n",
              "          Math.round((position / fileData.byteLength) * 100);\n",
              "      percent.textContent = `${percentDone}% done`;\n",
              "\n",
              "    } while (position < fileData.byteLength);\n",
              "  }\n",
              "\n",
              "  // All done.\n",
              "  yield {\n",
              "    response: {\n",
              "      action: 'complete',\n",
              "    }\n",
              "  };\n",
              "}\n",
              "\n",
              "scope.google = scope.google || {};\n",
              "scope.google.colab = scope.google.colab || {};\n",
              "scope.google.colab._files = {\n",
              "  _uploadFiles,\n",
              "  _uploadFilesContinue,\n",
              "};\n",
              "})(self);\n",
              "</script> "
            ]
          },
          "metadata": {}
        },
        {
          "output_type": "stream",
          "name": "stdout",
          "text": [
            "Saving ufc-fighters-statistics.csv to ufc-fighters-statistics.csv\n"
          ]
        }
      ],
      "source": [
        "from google.colab import files\n",
        "uploaded = files.upload()"
      ]
    },
    {
      "cell_type": "code",
      "source": [
        "import pandas as pd\n",
        "stats = pd.read_csv(\"ufc-fighters-statistics.csv\")\n",
        "stats.head()\n",
        "stats.isnull().sum()\n",
        "print(stats.head(10))\n",
        "#print(stats.columns)\n",
        "\n",
        "#"
      ],
      "metadata": {
        "colab": {
          "base_uri": "https://localhost:8080/"
        },
        "id": "SgvzA6CTJlzP",
        "outputId": "328db964-1916-40b1-dcd7-c0668655a4c5"
      },
      "execution_count": null,
      "outputs": [
        {
          "output_type": "stream",
          "name": "stdout",
          "text": [
            "                name               nickname  wins  losses  draws  height_cm  \\\n",
            "0    Robert Drysdale                    NaN     7       0      0     190.50   \n",
            "1  Daniel McWilliams             The Animal    15      37      0     185.42   \n",
            "2         Dan Molina                    NaN    13       9      0     177.80   \n",
            "3          Paul Ruiz                    NaN     7       4      0     167.64   \n",
            "4    Collin Huckbody                 All In     8       2      0     190.50   \n",
            "5   Gerald Strebendt  The Finishing Machine     9       7      0     175.26   \n",
            "6        Isaiah Hill                    NaN     5       7      1     177.80   \n",
            "7   Kenneth Seegrist                    NaN     4       7      0     182.88   \n",
            "8          Will Kerr                    NaN     9       3      0     177.80   \n",
            "9         Neil Grove                Goliath    12       8      1     198.12   \n",
            "\n",
            "   weight_in_kg  reach_in_cm    stance date_of_birth  \\\n",
            "0         92.99          NaN  Orthodox    1981-10-05   \n",
            "1         83.91          NaN       NaN           NaN   \n",
            "2         97.98          NaN       NaN           NaN   \n",
            "3         61.23          NaN       NaN           NaN   \n",
            "4         83.91       193.04  Orthodox    1994-09-29   \n",
            "5         70.31          NaN  Orthodox    1979-03-01   \n",
            "6         70.31          NaN       NaN           NaN   \n",
            "7         83.91          NaN  Orthodox           NaN   \n",
            "8         70.31       175.26  Orthodox    1982-10-21   \n",
            "9        120.20          NaN  Orthodox    1971-01-18   \n",
            "\n",
            "   significant_strikes_landed_per_minute  significant_striking_accuracy  \\\n",
            "0                                   0.00                            0.0   \n",
            "1                                   3.36                           77.0   \n",
            "2                                   0.00                            0.0   \n",
            "3                                   1.40                           33.0   \n",
            "4                                   2.05                           60.0   \n",
            "5                                   0.00                            0.0   \n",
            "6                                   4.84                           50.0   \n",
            "7                                   3.21                           66.0   \n",
            "8                                   1.91                           42.0   \n",
            "9                                   0.00                            0.0   \n",
            "\n",
            "   significant_strikes_absorbed_per_minute  significant_strike_defence  \\\n",
            "0                                     0.00                         0.0   \n",
            "1                                     0.00                         0.0   \n",
            "2                                     5.58                        60.0   \n",
            "3                                     1.40                        75.0   \n",
            "4                                     2.73                        42.0   \n",
            "5                                     4.00                        38.0   \n",
            "6                                     0.97                        80.0   \n",
            "7                                     1.28                         0.0   \n",
            "8                                     6.22                        33.0   \n",
            "9                                     0.00                         0.0   \n",
            "\n",
            "   average_takedowns_landed_per_15_minutes  takedown_accuracy  \\\n",
            "0                                     7.32              100.0   \n",
            "1                                     0.00                0.0   \n",
            "2                                     0.00                0.0   \n",
            "3                                     0.00                0.0   \n",
            "4                                    10.23              100.0   \n",
            "5                                     0.00                0.0   \n",
            "6                                     0.00                0.0   \n",
            "7                                     0.00                0.0   \n",
            "8                                     0.00                0.0   \n",
            "9                                     0.00                0.0   \n",
            "\n",
            "   takedown_defense  average_submissions_attempted_per_15_minutes  \n",
            "0               0.0                                          21.9  \n",
            "1             100.0                                          21.6  \n",
            "2               0.0                                          20.9  \n",
            "3             100.0                                          20.9  \n",
            "4               0.0                                          20.4  \n",
            "5               0.0                                          16.4  \n",
            "6              66.0                                          14.5  \n",
            "7              40.0                                          14.4  \n",
            "8               0.0                                          14.3  \n",
            "9             100.0                                          14.3  \n"
          ]
        }
      ]
    },
    {
      "cell_type": "code",
      "source": [
        "stats.info()\n",
        "stats.describe()\n",
        "stats.shape\n",
        "print(stats.columns.tolist())"
      ],
      "metadata": {
        "colab": {
          "base_uri": "https://localhost:8080/"
        },
        "id": "NOdSo3lKJob8",
        "outputId": "9c61d8c6-80bc-47db-bed6-16cc5ffd2b7c"
      },
      "execution_count": null,
      "outputs": [
        {
          "output_type": "stream",
          "name": "stdout",
          "text": [
            "<class 'pandas.core.frame.DataFrame'>\n",
            "RangeIndex: 4111 entries, 0 to 4110\n",
            "Data columns (total 18 columns):\n",
            " #   Column                                        Non-Null Count  Dtype  \n",
            "---  ------                                        --------------  -----  \n",
            " 0   name                                          4111 non-null   object \n",
            " 1   nickname                                      2257 non-null   object \n",
            " 2   wins                                          4111 non-null   int64  \n",
            " 3   losses                                        4111 non-null   int64  \n",
            " 4   draws                                         4111 non-null   int64  \n",
            " 5   height_cm                                     3813 non-null   float64\n",
            " 6   weight_in_kg                                  4024 non-null   float64\n",
            " 7   reach_in_cm                                   2184 non-null   float64\n",
            " 8   stance                                        3288 non-null   object \n",
            " 9   date_of_birth                                 2976 non-null   object \n",
            " 10  significant_strikes_landed_per_minute         4111 non-null   float64\n",
            " 11  significant_striking_accuracy                 4111 non-null   float64\n",
            " 12  significant_strikes_absorbed_per_minute       4111 non-null   float64\n",
            " 13  significant_strike_defence                    4111 non-null   float64\n",
            " 14  average_takedowns_landed_per_15_minutes       4111 non-null   float64\n",
            " 15  takedown_accuracy                             4111 non-null   float64\n",
            " 16  takedown_defense                              4111 non-null   float64\n",
            " 17  average_submissions_attempted_per_15_minutes  4111 non-null   float64\n",
            "dtypes: float64(11), int64(3), object(4)\n",
            "memory usage: 578.2+ KB\n",
            "['name', 'nickname', 'wins', 'losses', 'draws', 'height_cm', 'weight_in_kg', 'reach_in_cm', 'stance', 'date_of_birth', 'significant_strikes_landed_per_minute', 'significant_striking_accuracy', 'significant_strikes_absorbed_per_minute', 'significant_strike_defence', 'average_takedowns_landed_per_15_minutes', 'takedown_accuracy', 'takedown_defense', 'average_submissions_attempted_per_15_minutes']\n"
          ]
        }
      ]
    },
    {
      "cell_type": "code",
      "source": [
        "stats['height_cm'] = stats['height_cm'].fillna(stats['height_cm'].median())\n",
        "stats['date_of_birth'] = pd.to_datetime(stats['date_of_birth'], errors='coerce')\n",
        "today = pd.to_datetime('today')\n",
        "stats['age'] = (today - stats['date_of_birth']).dt.days // 365\n",
        "stats['age'] = stats['age'].fillna(stats['age'].median())\n",
        "mean_strikes = stats['significant_strikes_landed_per_minute'].mean()\n",
        "stats['normalized_strikes'] = stats['significant_strikes_landed_per_minute'] / mean_strikes\n",
        "stats['performance'] = (0.3 * stats['normalized_strikes']\n",
        "                        + 0.3 * stats['significant_strike_defence'] / 100\n",
        "                        + 0.2 * stats['takedown_accuracy'] / 100\n",
        "                        + 0.2 * stats['takedown_defense'] / 100)\n",
        "stats['strike_efficiency'] = (\n",
        "    stats['significant_strikes_landed_per_minute']\n",
        "    - stats['significant_strikes_absorbed_per_minute']\n",
        ")\n",
        "stats['grapple_efficiency'] = (\n",
        "    0.5 * stats['takedown_accuracy'] / 100 + 0.5 * stats['takedown_defense'] / 100\n",
        ")\n",
        "stats['win_indicator'] = (stats['wins'] > stats['losses']).astype(int)\n",
        "stats['win_ratio'] = stats['wins'] / (stats['wins'] + stats[\"losses\"] + stats['draws'])\n",
        "stats['win_ratio'] = stats['win_ratio'].fillna(0)"
      ],
      "metadata": {
        "id": "0Xx0igFkHbbW"
      },
      "execution_count": null,
      "outputs": []
    },
    {
      "cell_type": "code",
      "source": [
        "from sklearn.preprocessing import StandardScaler\n",
        "\n",
        "scaler = StandardScaler()\n",
        "\n",
        "numeric_cols = ['height_cm', 'age', 'performance', 'strike_efficiency', 'grapple_efficiency']\n",
        "\n",
        "stats[numeric_cols] = scaler.fit_transform(stats[numeric_cols])"
      ],
      "metadata": {
        "id": "6P2mSP2XgVCu"
      },
      "execution_count": null,
      "outputs": []
    },
    {
      "cell_type": "code",
      "source": [
        "from sklearn.ensemble import RandomForestClassifier\n",
        "from sklearn.model_selection import train_test_split\n",
        "from sklearn.metrics import accuracy_score, classification_report\n",
        "\n",
        "X = stats[['strike_efficiency', 'grapple_efficiency', 'height_cm', 'age', 'performance']]\n",
        "y = stats['win_indicator']\n",
        "X_train, X_test, y_train, y_test = train_test_split(X, y, stratify=y, random_state=42)\n",
        "\n",
        "model = RandomForestClassifier(n_estimators=200, class_weight='balanced', random_state=42)\n",
        "model.fit(X_train, y_train)\n",
        "\n",
        "y_pred = model.predict(X_test)\n",
        "print(\"Accuracy:\", accuracy_score(y_test, y_pred))\n",
        "print(classification_report(y_test, y_pred))"
      ],
      "metadata": {
        "id": "kkcC90lThHNZ",
        "colab": {
          "base_uri": "https://localhost:8080/"
        },
        "outputId": "ecf18f49-cebe-4462-ec07-ef014175d597"
      },
      "execution_count": null,
      "outputs": [
        {
          "output_type": "stream",
          "name": "stdout",
          "text": [
            "Accuracy: 0.8394941634241245\n",
            "              precision    recall  f1-score   support\n",
            "\n",
            "           0       0.49      0.54      0.51       160\n",
            "           1       0.91      0.90      0.90       868\n",
            "\n",
            "    accuracy                           0.84      1028\n",
            "   macro avg       0.70      0.72      0.71      1028\n",
            "weighted avg       0.85      0.84      0.84      1028\n",
            "\n"
          ]
        }
      ]
    },
    {
      "cell_type": "code",
      "source": [
        "def predictWinner(fighter_A_Name, fighter_B_Name):\n",
        "  fighter_A = stats.loc[stats['name'] == fighter_A_Name].squeeze()\n",
        "  fighter_B = stats.loc[stats['name'] == fighter_B_Name].squeeze()\n",
        "\n",
        "  if fighter_A.empty or fighter_B.empty:\n",
        "    print(\"One or both fighters not found in the dataset.\")\n",
        "    return\n",
        "\n",
        "  features = ['strike_efficiency', 'grapple_efficiency', 'height_cm', 'age', 'performance']\n",
        "\n",
        "  feature_A = fighter_A[features].values.reshape(1, -1)\n",
        "  feature_B = fighter_B[features].values.reshape(1, -1)\n",
        "\n",
        "  A_prob = model.predict_proba(feature_A)[0][1]\n",
        "  B_prob = model.predict_proba(feature_B)[0][1]\n",
        "\n",
        "  print(f\"{fighter_A_Name} vs {fighter_B_Name}\")\n",
        "  print(f\"{fighter_A_Name} likelyhood to win {A_prob:.2%}\")\n",
        "  print(f\"{fighter_B_Name} likelyhood to win {A_prob:.2%}\")\n",
        "\n",
        "  if A_prob > B_prob:\n",
        "    print(f\"Predicted winner {fighter_A_Name}\")\n",
        "  else:\n",
        "    print(f\"Predicted winner {fighter_B_Name}\")\n",
        "\n",
        "\n"
      ],
      "metadata": {
        "id": "aFrvSVyMIxaJ"
      },
      "execution_count": null,
      "outputs": []
    },
    {
      "cell_type": "code",
      "source": [
        "#Test\n",
        "predictWinner(\"Khabib Nurmagomedov\", \"Conor McGregor\")"
      ],
      "metadata": {
        "colab": {
          "base_uri": "https://localhost:8080/"
        },
        "id": "HolloyHNPxNK",
        "outputId": "0c9011da-5443-4aab-98e8-f295d404cca3"
      },
      "execution_count": null,
      "outputs": [
        {
          "output_type": "stream",
          "name": "stdout",
          "text": [
            "Khabib Nurmagomedov vs Conor McGregor\n",
            "Khabib Nurmagomedov likelyhood to win 100.00%\n",
            "Conor McGregor likelyhood to win 100.00%\n",
            "Predicted winner Conor McGregor\n"
          ]
        },
        {
          "output_type": "stream",
          "name": "stderr",
          "text": [
            "/usr/local/lib/python3.12/dist-packages/sklearn/utils/validation.py:2739: UserWarning: X does not have valid feature names, but RandomForestClassifier was fitted with feature names\n",
            "  warnings.warn(\n",
            "/usr/local/lib/python3.12/dist-packages/sklearn/utils/validation.py:2739: UserWarning: X does not have valid feature names, but RandomForestClassifier was fitted with feature names\n",
            "  warnings.warn(\n"
          ]
        }
      ]
    }
  ]
}